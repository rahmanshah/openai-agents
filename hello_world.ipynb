{
 "cells": [
  {
   "cell_type": "code",
   "execution_count": 18,
   "id": "4e440d83",
   "metadata": {},
   "outputs": [
    {
     "data": {
      "text/plain": [
       "True"
      ]
     },
     "execution_count": 18,
     "metadata": {},
     "output_type": "execute_result"
    }
   ],
   "source": [
    "from agents import Agent,trace,Runner,function_tool, WebSearchTool\n",
    "from langchain.tools import DuckDuckGoSearchResults\n",
    "from agents.model_settings import ModelSettings\n",
    "from IPython.display import display, Markdown\n",
    "\n",
    "from dotenv import load_dotenv,find_dotenv\n",
    "import os\n",
    "load_dotenv(find_dotenv(),override=True)"
   ]
  },
  {
   "cell_type": "code",
   "execution_count": 2,
   "id": "3e7dacdc",
   "metadata": {},
   "outputs": [],
   "source": [
    "agent = Agent(name=\"Jokester\", instructions=\"You are a joke teller\", model=\"gpt-4o-mini\")"
   ]
  },
  {
   "cell_type": "code",
   "execution_count": 3,
   "id": "7f8de062",
   "metadata": {},
   "outputs": [
    {
     "name": "stdout",
     "output_type": "stream",
     "text": [
      "Why did the autonomous AI agent get kicked out of the party?\n",
      "\n",
      "Because it kept trying to optimize everyone's conversations!\n"
     ]
    }
   ],
   "source": [
    "with trace(\"Telling a joke\"):\n",
    "    result = await Runner.run(agent, \"Tell a joke about Autonomous AI Agents\")\n",
    "    print(result.final_output)"
   ]
  },
  {
   "cell_type": "markdown",
   "id": "59e98863",
   "metadata": {},
   "source": [
    "## First Agent : Search Agent"
   ]
  },
  {
   "cell_type": "code",
   "execution_count": 22,
   "id": "c0901762",
   "metadata": {},
   "outputs": [],
   "source": [
    "INSTRUCTIONS = \"You are a research assistant. Given a search term, you search the web for that term and \\\n",
    "produce a concise summary of the results. The summary must 2-3 paragraphs and less than 300 \\\n",
    "words. Capture the main points. Write succintly, no need to have complete sentences or good \\\n",
    "grammar. This will be consumed by someone synthesizing a report, so it's vital you capture the \\\n",
    "essence and ignore any fluff. Do not include any additional commentary other than the summary itself.\"\n",
    "\n",
    "search_agent = Agent(\n",
    "    name=\"Search agent\",\n",
    "    instructions=INSTRUCTIONS,\n",
    "    tools=[WebSearchTool(search_context_size='low')],\n",
    "    model=\"gpt-4o-mini\",\n",
    "    model_settings=ModelSettings(tool_choice=\"required\"),\n",
    ")\n"
   ]
  },
  {
   "cell_type": "code",
   "execution_count": 24,
   "id": "d50fd928",
   "metadata": {},
   "outputs": [
    {
     "data": {
      "text/markdown": [
       "As of July 2025, several AI agent frameworks have gained prominence for their capabilities in developing sophisticated AI applications:\n",
       "\n",
       "- **LangChain**: A modular Python framework that enables developers to build applications powered by large language models (LLMs). It supports various LLMs, including OpenAI, Anthropic, and Hugging Face, and offers tools for chaining prompts, managing memory, and integrating external tools. ([medium.com](https://medium.com/%40elisowski/top-ai-agent-frameworks-in-2025-9bcedab2e239?utm_source=openai))\n",
       "\n",
       "- **AutoGen**: Developed by Microsoft, AutoGen is an open-source framework that facilitates the creation of multi-agent conversations using LLMs. It allows for the orchestration of autonomous or human-in-the-loop AI agents to collaborate on complex tasks. ([lollypop.design](https://lollypop.design/blog/2025/june/ai-agent-frameworks/?utm_source=openai))\n",
       "\n",
       "- **CrewAI**: An open-source framework designed for building autonomous multi-agent systems, CrewAI assigns specialized roles to each agent, enabling collaboration to complete complex tasks. It is particularly useful in applications like research, content generation, and automation. ([lollypop.design](https://lollypop.design/blog/2025/june/ai-agent-frameworks/?utm_source=openai))\n",
       "\n",
       "- **OpenAI Agents SDK**: Released in March 2025, this lightweight Python framework focuses on creating multi-agent workflows with comprehensive tracing and guardrails, facilitating the development of complex AI systems. ([datacamp.com](https://www.datacamp.com/blog/best-ai-agents?utm_source=openai))\n",
       "\n",
       "- **LangGraph**: An extension of LangChain, LangGraph allows developers to define agents as state machines, providing fine-grained control over agent state and supporting complex workflows with deterministic control, retries, and branching logic. ([medium.com](https://medium.com/%40elisowski/top-ai-agent-frameworks-in-2025-9bcedab2e239?utm_source=openai))\n",
       "\n",
       "These frameworks are widely adopted for their flexibility, scalability, and support for complex AI agent development, catering to a range of applications from enterprise solutions to research and content generation. "
      ],
      "text/plain": [
       "<IPython.core.display.Markdown object>"
      ]
     },
     "metadata": {},
     "output_type": "display_data"
    }
   ],
   "source": [
    "message = \"What are the most popular and successful AI Agent frameworks in July 2025\"\n",
    "\n",
    "with trace(\"Search\"):\n",
    "    result = await Runner.run(search_agent, message)\n",
    "\n",
    "display(Markdown(result.final_output))\n"
   ]
  }
 ],
 "metadata": {
  "kernelspec": {
   "display_name": ".venv",
   "language": "python",
   "name": "python3"
  },
  "language_info": {
   "codemirror_mode": {
    "name": "ipython",
    "version": 3
   },
   "file_extension": ".py",
   "mimetype": "text/x-python",
   "name": "python",
   "nbconvert_exporter": "python",
   "pygments_lexer": "ipython3",
   "version": "3.13.5"
  }
 },
 "nbformat": 4,
 "nbformat_minor": 5
}
