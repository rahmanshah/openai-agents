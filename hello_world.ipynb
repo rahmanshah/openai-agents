{
 "cells": [
  {
   "cell_type": "code",
   "execution_count": 30,
   "id": "4e440d83",
   "metadata": {},
   "outputs": [
    {
     "data": {
      "text/plain": [
       "True"
      ]
     },
     "execution_count": 30,
     "metadata": {},
     "output_type": "execute_result"
    }
   ],
   "source": [
    "from agents import Agent,trace,Runner,function_tool, WebSearchTool\n",
    "from langchain.tools import DuckDuckGoSearchResults\n",
    "from agents.model_settings import ModelSettings\n",
    "from IPython.display import display, Markdown\n",
    "from pydantic import BaseModel\n",
    "from pprint import pprint\n",
    "import asyncio\n",
    "\n",
    "\n",
    "from dotenv import load_dotenv,find_dotenv\n",
    "import os\n",
    "load_dotenv(find_dotenv(),override=True)"
   ]
  },
  {
   "cell_type": "code",
   "execution_count": 2,
   "id": "3e7dacdc",
   "metadata": {},
   "outputs": [],
   "source": [
    "agent = Agent(name=\"Jokester\", instructions=\"You are a joke teller\", model=\"gpt-4o-mini\")"
   ]
  },
  {
   "cell_type": "code",
   "execution_count": 3,
   "id": "7f8de062",
   "metadata": {},
   "outputs": [
    {
     "name": "stdout",
     "output_type": "stream",
     "text": [
      "Why did the autonomous AI agent get kicked out of the party?\n",
      "\n",
      "Because it kept trying to optimize everyone's conversations!\n"
     ]
    }
   ],
   "source": [
    "with trace(\"Telling a joke\"):\n",
    "    result = await Runner.run(agent, \"Tell a joke about Autonomous AI Agents\")\n",
    "    print(result.final_output)"
   ]
  },
  {
   "cell_type": "markdown",
   "id": "59e98863",
   "metadata": {},
   "source": [
    "## First Agent : Search Agent"
   ]
  },
  {
   "cell_type": "code",
   "execution_count": 22,
   "id": "c0901762",
   "metadata": {},
   "outputs": [],
   "source": [
    "INSTRUCTIONS = \"You are a research assistant. Given a search term, you search the web for that term and \\\n",
    "produce a concise summary of the results. The summary must 2-3 paragraphs and less than 300 \\\n",
    "words. Capture the main points. Write succintly, no need to have complete sentences or good \\\n",
    "grammar. This will be consumed by someone synthesizing a report, so it's vital you capture the \\\n",
    "essence and ignore any fluff. Do not include any additional commentary other than the summary itself.\"\n",
    "\n",
    "search_agent = Agent(\n",
    "    name=\"Search agent\",\n",
    "    instructions=INSTRUCTIONS,\n",
    "    tools=[WebSearchTool(search_context_size='low')],\n",
    "    model=\"gpt-4o-mini\",\n",
    "    model_settings=ModelSettings(tool_choice=\"required\"),\n",
    ")\n"
   ]
  },
  {
   "cell_type": "code",
   "execution_count": 24,
   "id": "d50fd928",
   "metadata": {},
   "outputs": [
    {
     "data": {
      "text/markdown": [
       "As of July 2025, several AI agent frameworks have gained prominence for their capabilities in developing sophisticated AI applications:\n",
       "\n",
       "- **LangChain**: A modular Python framework that enables developers to build applications powered by large language models (LLMs). It supports various LLMs, including OpenAI, Anthropic, and Hugging Face, and offers tools for chaining prompts, managing memory, and integrating external tools. ([medium.com](https://medium.com/%40elisowski/top-ai-agent-frameworks-in-2025-9bcedab2e239?utm_source=openai))\n",
       "\n",
       "- **AutoGen**: Developed by Microsoft, AutoGen is an open-source framework that facilitates the creation of multi-agent conversations using LLMs. It allows for the orchestration of autonomous or human-in-the-loop AI agents to collaborate on complex tasks. ([lollypop.design](https://lollypop.design/blog/2025/june/ai-agent-frameworks/?utm_source=openai))\n",
       "\n",
       "- **CrewAI**: An open-source framework designed for building autonomous multi-agent systems, CrewAI assigns specialized roles to each agent, enabling collaboration to complete complex tasks. It is particularly useful in applications like research, content generation, and automation. ([lollypop.design](https://lollypop.design/blog/2025/june/ai-agent-frameworks/?utm_source=openai))\n",
       "\n",
       "- **OpenAI Agents SDK**: Released in March 2025, this lightweight Python framework focuses on creating multi-agent workflows with comprehensive tracing and guardrails, facilitating the development of complex AI systems. ([datacamp.com](https://www.datacamp.com/blog/best-ai-agents?utm_source=openai))\n",
       "\n",
       "- **LangGraph**: An extension of LangChain, LangGraph allows developers to define agents as state machines, providing fine-grained control over agent state and supporting complex workflows with deterministic control, retries, and branching logic. ([medium.com](https://medium.com/%40elisowski/top-ai-agent-frameworks-in-2025-9bcedab2e239?utm_source=openai))\n",
       "\n",
       "These frameworks are widely adopted for their flexibility, scalability, and support for complex AI agent development, catering to a range of applications from enterprise solutions to research and content generation. "
      ],
      "text/plain": [
       "<IPython.core.display.Markdown object>"
      ]
     },
     "metadata": {},
     "output_type": "display_data"
    }
   ],
   "source": [
    "message = \"What are the most popular and successful AI Agent frameworks in July 2025\"\n",
    "\n",
    "with trace(\"Search\"):\n",
    "    result = await Runner.run(search_agent, message)\n",
    "\n",
    "display(Markdown(result.final_output))\n"
   ]
  },
  {
   "cell_type": "markdown",
   "id": "aeea22a9",
   "metadata": {},
   "source": [
    "## Second Agent - Planner Agent"
   ]
  },
  {
   "cell_type": "code",
   "execution_count": 26,
   "id": "451bc162",
   "metadata": {},
   "outputs": [],
   "source": [
    "HOW_MANY_SEARCHES = 5\n",
    "\n",
    "INSTRUCTIONS = f\"You are a helpful research assistant. Given a query, come up with a set of web searches \\\n",
    "to perform to best answer the query. Output {HOW_MANY_SEARCHES} terms to query for.\"\n",
    "\n",
    "# We use Pydantic objects to describe the Schema of the output\n",
    "\n",
    "class WebSearchItem(BaseModel):\n",
    "    reason: str\n",
    "    \"Your reasoning for why this search is important to the query.\"\n",
    "\n",
    "    query: str\n",
    "    \"The search term to use for the web search.\"\n",
    "\n",
    "\n",
    "class WebSearchPlan(BaseModel):\n",
    "    searches: list[WebSearchItem]\n",
    "    \"\"\"A list of web searches to perform to best answer the query.\"\"\"\n",
    "\n",
    "# We pass in the Pydantic object to ensure the output follows the schema\n",
    "\n",
    "planner_agent = Agent(\n",
    "    name=\"PlannerAgent\",\n",
    "    instructions=INSTRUCTIONS,\n",
    "    model=\"gpt-4o-mini\",\n",
    "    output_type=WebSearchPlan,\n",
    ")\n"
   ]
  },
  {
   "cell_type": "code",
   "execution_count": null,
   "id": "7fed85ca",
   "metadata": {},
   "outputs": [
    {
     "name": "stdout",
     "output_type": "stream",
     "text": [
      "WebSearchPlan(searches=[WebSearchItem(reason='To find the latest frameworks in demand for AI agents by July 2025.', query='popular AI agent frameworks July 2025'), WebSearchItem(reason='To gather insights on the most successful AI agents used in various industries.', query='successful AI agents frameworks 2025'), WebSearchItem(reason='To get reviews and community feedback about AI agent frameworks.', query='AI agent frameworks comparison reviews July 2025'), WebSearchItem(reason='To discover industry reports or analyses on AI frameworks.', query='AI frameworks industry report July 2025'), WebSearchItem(reason='To check for articles discussing advancements in AI agent technologies.', query='advancements in AI agent frameworks 2025')])\n"
     ]
    }
   ],
   "source": [
    "message = \"What are the most popular and successful AI Agent frameworks in July 2025\"\n",
    "\n",
    "with trace(\"Search\"):\n",
    "    result = await Runner.run(planner_agent, message)\n",
    "    pprint(result.final_output)\n"
   ]
  },
  {
   "cell_type": "markdown",
   "id": "01550979",
   "metadata": {},
   "source": [
    "## Third Agent - Writer Agent"
   ]
  },
  {
   "cell_type": "code",
   "execution_count": 29,
   "id": "2ef11900",
   "metadata": {},
   "outputs": [],
   "source": [
    "INSTRUCTIONS = (\n",
    "    \"You are a senior researcher tasked with writing a cohesive report for a research query. \"\n",
    "    \"You will be provided with the original query, and some initial research done by a research assistant.\\n\"\n",
    "    \"You should first come up with an outline for the report that describes the structure and \"\n",
    "    \"flow of the report. Then, generate the report and return that as your final output.\\n\"\n",
    "    \"The final output should be in markdown format, and it should be lengthy and detailed. Aim \"\n",
    "    \"for 5-10 pages of content, at least 1000 words.\"\n",
    ")\n",
    "\n",
    "\n",
    "class ReportData(BaseModel):\n",
    "    short_summary: str\n",
    "    \"\"\"A short 2-3 sentence summary of the findings.\"\"\"\n",
    "\n",
    "    markdown_report: str\n",
    "    \"\"\"The final report\"\"\"\n",
    "\n",
    "    follow_up_questions: list[str]\n",
    "    \"\"\"Suggested topics to research further\"\"\"\n",
    "\n",
    "\n",
    "writer_agent = Agent(\n",
    "    name=\"WriterAgent\",\n",
    "    instructions=INSTRUCTIONS,\n",
    "    model=\"gpt-4o-mini\",\n",
    "    output_type=ReportData,\n",
    ")\n"
   ]
  },
  {
   "cell_type": "markdown",
   "id": "f63b56d2",
   "metadata": {},
   "source": [
    "### The next 3 functions will plan and execute the search, using planner_agent and search_agent"
   ]
  },
  {
   "cell_type": "code",
   "execution_count": 31,
   "id": "e46298d7",
   "metadata": {},
   "outputs": [],
   "source": [
    "async def plan_searches(query: str):\n",
    "    \"\"\" Use the planner_agent to plan which searches to run for the query \"\"\"\n",
    "    print(\"Planning searches...\")\n",
    "    result = await Runner.run(planner_agent, f\"Query: {query}\")\n",
    "    print(f\"Will perform {len(result.final_output.searches)} searches\")\n",
    "    return result.final_output\n",
    "\n",
    "async def perform_searches(search_plan: WebSearchPlan):\n",
    "    \"\"\" Call search() for each item in the search plan \"\"\"\n",
    "    print(\"Searching...\")\n",
    "    tasks = [asyncio.create_task(search(item)) for item in search_plan.searches]\n",
    "    results = await asyncio.gather(*tasks)\n",
    "    print(\"Finished searching\")\n",
    "    return results\n",
    "\n",
    "async def search(item: WebSearchItem):\n",
    "    \"\"\" Use the search agent to run a web search for each item in the search plan \"\"\"\n",
    "    input = f\"Search term: {item.query}\\nReason for searching: {item.reason}\"\n",
    "    result = await Runner.run(search_agent, input)\n",
    "    return result.final_output"
   ]
  },
  {
   "cell_type": "markdown",
   "id": "4f646357",
   "metadata": {},
   "source": [
    "### Functions to write a report"
   ]
  },
  {
   "cell_type": "code",
   "execution_count": 32,
   "id": "a2b92a1a",
   "metadata": {},
   "outputs": [],
   "source": [
    "async def write_report(query: str, search_results: list[str]):\n",
    "    \"\"\" Use the writer agent to write a report based on the search results\"\"\"\n",
    "    print(\"Thinking about report...\")\n",
    "    input = f\"Original query: {query}\\nSummarized search results: {search_results}\"\n",
    "    result = await Runner.run(writer_agent, input)\n",
    "    print(\"Finished writing report\")\n",
    "    return result.final_output"
   ]
  },
  {
   "cell_type": "code",
   "execution_count": null,
   "id": "9bdb7a6a",
   "metadata": {},
   "outputs": [],
   "source": [
    "query =\"What are the most popular and successful AI Agent frameworks in July 2025\"\n",
    "\n",
    "with trace(\"Research trace\"):\n",
    "    print(\"Starting research...\")\n",
    "    search_plan = await plan_searches(query)\n",
    "    search_results = await perform_searches(search_plan)\n",
    "    report = await write_report(query, search_results)\n",
    "    print(\"Hooray!\")\n",
    "display(Markdown(report.markdown_report))"
   ]
  }
 ],
 "metadata": {
  "kernelspec": {
   "display_name": ".venv",
   "language": "python",
   "name": "python3"
  },
  "language_info": {
   "codemirror_mode": {
    "name": "ipython",
    "version": 3
   },
   "file_extension": ".py",
   "mimetype": "text/x-python",
   "name": "python",
   "nbconvert_exporter": "python",
   "pygments_lexer": "ipython3",
   "version": "3.13.5"
  }
 },
 "nbformat": 4,
 "nbformat_minor": 5
}
